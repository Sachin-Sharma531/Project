{
 "cells": [
  {
   "cell_type": "code",
   "execution_count": null,
   "id": "13932e31",
   "metadata": {},
   "outputs": [],
   "source": [
    "import pandas as pd\n",
    "import numpy as np"
   ]
  },
  {
   "cell_type": "code",
   "execution_count": null,
   "id": "08fabc7c",
   "metadata": {},
   "outputs": [],
   "source": [
    "def ordinal_encoder(df):\n",
    "  file=df.select_dtypes(include='object')\n",
    "  new_file=pd.DataFrame()\n",
    "  l=[]\n",
    "  dict={}\n",
    "  #ask for user preference\n",
    "  print('Enter your choice:   1. Alphabetically   2. Random')\n",
    "  k=int(input())\n",
    "\n",
    "  for col in file.columns:\n",
    "\n",
    "    if k==2:\n",
    "      l=list(set(file[col].dropna()))\n",
    "    elif k==1:\n",
    "      l=sorted(file[col].dropna().unique())\n",
    "    else:\n",
    "      print(\"Enter valid value\")\n",
    "      ordinal_encoder(df)  \n",
    "    #Create a dictionary of element present inside list with its index i as key\n",
    "    for i in l:\n",
    "      dict[i]= l.index(i)\n",
    "    # Gives NaN value -1\n",
    "    dict[np.nan]=-1  \n",
    "  #Changes the original column for encoded values\n",
    "  for col in file.columns:\n",
    "    new_file[col]= file[col].map(dict) \n",
    "    # Replace missing value with -1\n",
    "    file[col] = file[col].fillna(-1)\n",
    "  return new_file   "
   ]
  },
  {
   "cell_type": "code",
   "execution_count": null,
   "id": "b9f20954",
   "metadata": {},
   "outputs": [
    {
     "name": "stdout",
     "output_type": "stream",
     "text": [
      "Enter your choice:   1. Alphabetically   2. Random\n",
      "{'Delhi': 0, 'Mumbai': 1, 'Pune': 2, nan: -1, 'A': 0, 'B': 1, 'C': 2, 'D': 3, 'E': 4, 'F': 5}\n",
      "   City  Name\n",
      "0     0     0\n",
      "1     1     1\n",
      "2    -1     2\n",
      "3     0     3\n",
      "4     2     4\n",
      "5    -1     5\n"
     ]
    }
   ],
   "source": [
    "data = {\n",
    "    'Age': [25, 30, np.nan, 22, 25, 28],\n",
    "    'Salary': [50000, 60000, 60000, np.nan, 50000, 58000],\n",
    "    'City': ['Delhi', 'Mumbai', np.nan, 'Delhi', 'Pune', np.nan],\n",
    "    'Name': ['A','B','C','D','E','F']\n",
    "}\n",
    "\n",
    "df = pd.DataFrame(data)\n",
    "k=ordinal_encoder(df)\n",
    "print(k)\n",
    "  "
   ]
  }
 ],
 "metadata": {
  "kernelspec": {
   "display_name": "Python 3",
   "language": "python",
   "name": "python3"
  },
  "language_info": {
   "codemirror_mode": {
    "name": "ipython",
    "version": 3
   },
   "file_extension": ".py",
   "mimetype": "text/x-python",
   "name": "python",
   "nbconvert_exporter": "python",
   "pygments_lexer": "ipython3",
   "version": "3.13.3"
  }
 },
 "nbformat": 4,
 "nbformat_minor": 5
}
