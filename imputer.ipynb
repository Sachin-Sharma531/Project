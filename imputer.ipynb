{
 "cells": [
  {
   "cell_type": "code",
   "execution_count": 13,
   "id": "480604d3",
   "metadata": {},
   "outputs": [],
   "source": [
    "import pandas as pd\n",
    "import numpy as np"
   ]
  },
  {
   "cell_type": "code",
   "execution_count": 14,
   "id": "88dc439a",
   "metadata": {},
   "outputs": [],
   "source": [
    "def simple_imputer(X_train):\n",
    "\n",
    "  file=X_train.copy()\n",
    "  # Ask for user preference\n",
    "  strtgy=int(input(\"Enter Strategy: \\n 1. mean  2. median  3. most frequent  4. constant\\n\"))\n",
    "\n",
    "  # for mean\n",
    "  \n",
    "  if strtgy==1:\n",
    "   file= file.select_dtypes(exclude='object')\n",
    "   for cl in file.columns:\n",
    "     file.loc[file[cl].isnull(), cl] = file[cl].mean()\n",
    "   return file\n",
    "  \n",
    "  # for median\n",
    "\n",
    "  elif strtgy==2:\n",
    "   file= file.select_dtypes(exclude='object')\n",
    "   for cl in file.columns:\n",
    "     file.loc[file[cl].isnull(), cl] = file[cl].median()\n",
    "   return file \n",
    "  \n",
    "  # for most frequent\n",
    "  \n",
    "  elif strtgy==3:\n",
    "   for cl in file.columns:\n",
    "     file.loc[file[cl].isnull(), cl] = file[cl].mode()[0]\n",
    "   return file \n",
    "  \n",
    "  # for constant\n",
    "\n",
    "  elif strtgy==4:\n",
    "   c_n=input(\"Enter numerical constant: \")\n",
    "   c_c=input(\"Enter categorical constant: \")\n",
    "   for cl in file.columns:\n",
    "     if cl in file.select_dtypes(exclude='object'):\n",
    "       file.loc[file[cl].isnull(), cl]=c_n\n",
    "     else:\n",
    "       file.loc[file[cl].isnull(), cl]=c_c \n",
    "   return file \n",
    "  \n",
    "  else:\n",
    "    print(\"Enter a valid strategy\")\n",
    "    simple_imputer(df)\n"
   ]
  },
  {
   "cell_type": "code",
   "execution_count": 15,
   "id": "6d97302c",
   "metadata": {},
   "outputs": [
    {
     "name": "stdout",
     "output_type": "stream",
     "text": [
      "     Age   Salary\n",
      "0  25.00  50000.0\n",
      "1  30.00  55000.0\n",
      "2  26.25  60000.0\n",
      "3  22.00  52000.0\n",
      "4  26.25  55000.0\n",
      "5  28.00  58000.0\n"
     ]
    }
   ],
   "source": [
    "data = {\n",
    "    'Age': [25, 30, np.nan, 22, np.nan, 28],\n",
    "    'Salary': [50000, np.nan, 60000, 52000, np.nan, 58000],\n",
    "    'City': ['Delhi', 'Mumbai', np.nan, 'Delhi', 'Pune', np.nan]\n",
    "}\n",
    "\n",
    "df = pd.DataFrame(data)\n",
    "k=simple_imputer(df)\n",
    "print(k)"
   ]
  }
 ],
 "metadata": {
  "kernelspec": {
   "display_name": "Python 3",
   "language": "python",
   "name": "python3"
  },
  "language_info": {
   "codemirror_mode": {
    "name": "ipython",
    "version": 3
   },
   "file_extension": ".py",
   "mimetype": "text/x-python",
   "name": "python",
   "nbconvert_exporter": "python",
   "pygments_lexer": "ipython3",
   "version": "3.13.3"
  }
 },
 "nbformat": 4,
 "nbformat_minor": 5
}
