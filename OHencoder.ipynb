{
 "cells": [
  {
   "cell_type": "code",
   "execution_count": 1,
   "id": "23a554ed",
   "metadata": {},
   "outputs": [],
   "source": [
    "import pandas as pd\n",
    "import numpy as np"
   ]
  },
  {
   "cell_type": "code",
   "execution_count": 2,
   "id": "70ecad79",
   "metadata": {},
   "outputs": [],
   "source": [
    "def OH_encoder(df):\n",
    "  file=df.select_dtypes(include='object')\n",
    "  for col in file.columns:\n",
    "    s=file[col].dropna().unique()\n",
    "    for i in s:\n",
    "      file[i]= df[col]==i \n",
    "  file=file.select_dtypes(include=bool)\n",
    "  return file"
   ]
  },
  {
   "cell_type": "code",
   "execution_count": null,
   "id": "7ea3e7a1",
   "metadata": {},
   "outputs": [
    {
     "name": "stdout",
     "output_type": "stream",
     "text": [
      "    Delh  Mumbai  Delhi   Pune\n",
      "0   True   False  False  False\n",
      "1  False    True  False  False\n",
      "2  False   False  False  False\n",
      "3  False   False   True  False\n",
      "4  False   False  False   True\n",
      "5  False   False  False  False\n"
     ]
    }
   ],
   "source": [
    "data = {\n",
    "    'Age': [25, 30, np.nan, 22, np.nan, 28],\n",
    "    'Salary': [50000, np.nan, 60000, 52000, np.nan, 58000],\n",
    "    'City': ['Delhi', 'Mumbai', np.nan, 'Delhi', 'Pune', np.nan]\n",
    "}\n",
    "\n",
    "df = pd.DataFrame(data)\n",
    "k=OH_encoder(df)\n",
    "print(k)"
   ]
  }
 ],
 "metadata": {
  "kernelspec": {
   "display_name": "Python 3",
   "language": "python",
   "name": "python3"
  },
  "language_info": {
   "codemirror_mode": {
    "name": "ipython",
    "version": 3
   },
   "file_extension": ".py",
   "mimetype": "text/x-python",
   "name": "python",
   "nbconvert_exporter": "python",
   "pygments_lexer": "ipython3",
   "version": "3.13.3"
  }
 },
 "nbformat": 4,
 "nbformat_minor": 5
}
